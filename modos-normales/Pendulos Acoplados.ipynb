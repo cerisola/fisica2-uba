{
 "cells": [
  {
   "cell_type": "markdown",
   "metadata": {},
   "source": [
    "# Péndulos acoplados\n",
    "\n",
    "Federico Cerisola (cerisola@df.uba.ar)\n",
    "\n",
    "Departamento de Física, Facultad de Ciencias Exactas y Naturales, Universidad de Buenos Aires"
   ]
  },
  {
   "cell_type": "code",
   "execution_count": 2,
   "metadata": {},
   "outputs": [],
   "source": [
    "%matplotlib inline\n",
    "\n",
    "import numpy as np\n",
    "import matplotlib.pyplot as plt\n",
    "from scipy import linalg\n",
    "\n",
    "from matplotlib import animation, rc\n",
    "from IPython.display import HTML\n",
    "import ipywidgets as widgets\n",
    "\n",
    "rc('animation', html='jshtml')"
   ]
  },
  {
   "cell_type": "code",
   "execution_count": 3,
   "metadata": {},
   "outputs": [],
   "source": [
    "def calculo_modos_normales(mA, mB, k, l, g=9.8):\n",
    "    omega1 = np.sqrt(g/l)\n",
    "    omega2 = np.sqrt(g/l + k*(mA + mB)/(mA*mB))\n",
    "    v1 = np.array([1, 1])\n",
    "    v2 = np.array([1, -mA/mB])\n",
    "    return (omega1, v1), (omega2, v2)\n",
    "\n",
    "\n",
    "def calculo_ci(psiA0, psiB0, velA0, velB0, modos):\n",
    "    (omega1, v1), (omega2, v2) = modos\n",
    "    A = np.array([[v1[0], 0, v2[0], 0],\n",
    "                  [v1[1], 0, v2[1], 0],\n",
    "                  [0, omega1*v1[0], 0, omega2*v2[0]],\n",
    "                  [0, omega1*v1[1], 0, omega2*v2[1]]])\n",
    "    d = np.array([psiA0, psiB0, velA0, velB0])\n",
    "    Amplitudes = linalg.solve(A, d)\n",
    "    C1 = np.sqrt(Amplitudes[0]**2 + Amplitudes[1]**2)\n",
    "    C2 = np.sqrt(Amplitudes[2]**2 + Amplitudes[3]**2)\n",
    "    phi1 = np.arctan2(-Amplitudes[1], Amplitudes[0])\n",
    "    phi2 = np.arctan2(-Amplitudes[3], Amplitudes[2])\n",
    "    return (C1, phi1), (C2, phi2)\n",
    "    #return ((Amplitudes[0], Amplitudes[1]), (Amplitudes[2], Amplitudes[3]))\n",
    "\n",
    "\n",
    "def funciones_posicion_masas(modos, CI):\n",
    "    (omega1, v1), (omega2, v2) = modos\n",
    "    (C1, phi1), (C2, phi2) = CI\n",
    "\n",
    "    psiA = lambda t: v1[0]*C1*np.cos(omega1*t + phi1) + v2[0]*C2*np.cos(omega2*t + phi2)\n",
    "    psiB = lambda t: v1[1]*C1*np.cos(omega1*t + phi1) + v2[1]*C2*np.cos(omega2*t + phi2)\n",
    "    return psiA, psiB"
   ]
  },
  {
   "cell_type": "code",
   "execution_count": 4,
   "metadata": {},
   "outputs": [],
   "source": [
    "def graficar_soluciones(tmax, mA, mB, k, l, psiA0, psiB0, velA0, velB0, g=9.8):\n",
    "    modos = calculo_modos_normales(mA, mB, k, l, g=g)\n",
    "    CI = calculo_ci(psiA0, psiB0, velA0, velB0, modos)\n",
    "    psiA, psiB = funciones_posicion_masas(modos, CI)\n",
    "\n",
    "    t = np.linspace(0, tmax, 4000)\n",
    "\n",
    "    plt.figure(figsize=(9,5))\n",
    "    plt.plot(t, psiA(t), label='$\\psi_{A}$')\n",
    "    plt.plot(t, psiB(t), label='$\\psi_{B}$')\n",
    "    plt.xlabel('$t$')\n",
    "    plt.ylabel('Desplazamiento')\n",
    "    plt.grid()\n",
    "    plt.legend()\n",
    "    plt.show()"
   ]
  },
  {
   "cell_type": "code",
   "execution_count": 5,
   "metadata": {},
   "outputs": [
    {
     "data": {
      "application/vnd.jupyter.widget-view+json": {
       "model_id": "71e31e89f17c4c15ab97382fdd361d9b",
       "version_major": 2,
       "version_minor": 0
      },
      "text/plain": [
       "interactive(children=(FloatSlider(value=100.0, description='tmax', max=500.0, step=1.0), FloatSlider(value=1.0…"
      ]
     },
     "metadata": {},
     "output_type": "display_data"
    },
    {
     "data": {
      "text/plain": [
       "<function __main__.graficar_soluciones(tmax, mA, mB, k, l, psiA0, psiB0, velA0, velB0, g=9.8)>"
      ]
     },
     "execution_count": 5,
     "metadata": {},
     "output_type": "execute_result"
    }
   ],
   "source": [
    "# creamos widget iteractivo\n",
    "widgets.interact(graficar_soluciones,\n",
    "                tmax=widgets.FloatSlider(min=0, max=500, step=1, value=100),\n",
    "                mA=widgets.FloatSlider(min=0, max=10, step=0.1, value=1),\n",
    "                mB=widgets.FloatSlider(min=0, max=10, step=0.1, value=1),\n",
    "                k=widgets.FloatSlider(min=0, max=10, step=0.1, value=0.5),\n",
    "                l=widgets.FloatSlider(min=0, max=10, step=0.1, value=1),\n",
    "                psiA0=widgets.FloatSlider(min=-1, max=1, step=0.1, value=1),\n",
    "                psiB0=widgets.FloatSlider(min=-1, max=1, step=0.1, value=0),\n",
    "                velA0=widgets.FloatSlider(min=-1, max=1, step=0.1, value=0),\n",
    "                velB0=widgets.FloatSlider(min=-1, max=1, step=0.1, value=0))"
   ]
  },
  {
   "cell_type": "code",
   "execution_count": 16,
   "metadata": {},
   "outputs": [],
   "source": [
    "def animacion_soluciones(tmax, mA, mB, k, l, psiA0, psiB0, velA0, velB0, g=9.8):\n",
    "    modos = calculo_modos_normales(mA, mB, k, l, g=g)\n",
    "    CI = calculo_ci(psiA0, psiB0, velA0, velB0, modos)\n",
    "    psiA, psiB = funciones_posicion_masas(modos, CI)\n",
    "\n",
    "    t = np.linspace(0, tmax, 400)\n",
    "    psiAt = psiA(t)\n",
    "    psiBt = psiB(t)\n",
    "\n",
    "    fig, (ax1, ax2) = plt.subplots(1, 2, figsize=(12,5))\n",
    "    lineA, = ax1.plot([], [], label='$\\psi_{A}$')\n",
    "    lineB, = ax1.plot([], [], label='$\\psi_{A}$')\n",
    "    ax1.set_xlabel('$t$')\n",
    "    ax1.set_ylabel('Despalazamiento')\n",
    "    \n",
    "    L = np.max([psiAt, psiBt])\n",
    "    posEqA = L\n",
    "    posEqB = 3*L\n",
    "    ax2.set_xlim([0, 4*L])\n",
    "    ax2.set_ylim([0, 1])\n",
    "    lineTecho, = ax2.plot([0, 4*L], [0.9, 0.9], '-', color='black', linewidth=3.0)\n",
    "    linePendA, = ax2.plot([posEqA, posEqA], [0.9, 0.1], '-', color='C0', linewidth=2.0)\n",
    "    linePendB, = ax2.plot([posEqB, posEqB], [0.9, 0.1], '-', color='C1', linewidth=2.0)\n",
    "    lineResor, = ax2.plot([posEqA, posEqB], [0.1, 0.1], '--', color='gray', linewidth=1.5)\n",
    "    masaPendA, = ax2.plot([posEqA], [0.1], 'o', color='C0', markersize=10.0)\n",
    "    masaPendB, = ax2.plot([posEqB], [0.1], 'o', color='C1', markersize=10.0)\n",
    "    \n",
    "    def init():\n",
    "        lineA.set_data([], [])\n",
    "        lineB.set_data([], [])\n",
    "        linePendA.set_xdata([posEqA, posEqA])\n",
    "        linePendB.set_xdata([posEqB, posEqB])\n",
    "        lineResor.set_xdata([posEqA, posEqB])\n",
    "        masaPendA.set_xdata([posEqA])\n",
    "        masaPendB.set_xdata([posEqB])\n",
    "        return lineA, lineB, linePendA, linePendB, masaPendA, masaPendB\n",
    "    \n",
    "    def animate(i):\n",
    "        lineA.set_data(t[:i], psiAt[:i] + posEqA)\n",
    "        lineB.set_data(t[:i], psiBt[:i] + posEqB)\n",
    "        linePendA.set_xdata([posEqA, psiAt[i] + posEqA])\n",
    "        linePendB.set_xdata([posEqB, psiBt[i] + posEqB])\n",
    "        lineResor.set_xdata([psiAt[i] + posEqA, psiBt[i] + posEqB])\n",
    "        masaPendA.set_xdata([psiAt[i] + posEqA])\n",
    "        masaPendB.set_xdata([psiBt[i] + posEqB])\n",
    "        return lineA, lineB, linePendA, linePendB, masaPendA, masaPendB \n",
    "\n",
    "    anim = animation.FuncAnimation(fig, animate, frames=len(t), interval=100, blit=True, init_func=init)\n",
    "    #HTML(anim.to_jshtml())\n",
    "    return anim"
   ]
  },
  {
   "cell_type": "code",
   "execution_count": 17,
   "metadata": {},
   "outputs": [
    {
     "data": {
      "application/vnd.jupyter.widget-view+json": {
       "model_id": "6239e5b808e744dfa628440a7a22ac8e",
       "version_major": 2,
       "version_minor": 0
      },
      "text/plain": [
       "interactive(children=(FloatSlider(value=50.0, continuous_update=False, description='tmax', max=500.0, step=1.0…"
      ]
     },
     "metadata": {},
     "output_type": "display_data"
    },
    {
     "data": {
      "text/plain": [
       "<function __main__.animacion_soluciones(tmax, mA, mB, k, l, psiA0, psiB0, velA0, velB0, g=9.8)>"
      ]
     },
     "execution_count": 17,
     "metadata": {},
     "output_type": "execute_result"
    }
   ],
   "source": [
    "# creamos widget iteractivo\n",
    "widgets.interact(animacion_soluciones,\n",
    "                tmax=widgets.FloatSlider(min=0, max=500, step=1, value=50, continuous_update=False),\n",
    "                mA=widgets.FloatSlider(min=0, max=10, step=0.1, value=1, continuous_update=False),\n",
    "                mB=widgets.FloatSlider(min=0, max=10, step=0.1, value=1, continuous_update=False),\n",
    "                k=widgets.FloatSlider(min=0, max=10, step=0.1, value=0.5, continuous_update=False),\n",
    "                l=widgets.FloatSlider(min=0, max=10, step=0.1, value=1, continuous_update=False),\n",
    "                psiA0=widgets.FloatSlider(min=-1, max=1, step=0.1, value=1, continuous_update=False),\n",
    "                psiB0=widgets.FloatSlider(min=-1, max=1, step=0.1, value=0, continuous_update=False),\n",
    "                velA0=widgets.FloatSlider(min=-1, max=1, step=0.1, value=0, continuous_update=False),\n",
    "                velB0=widgets.FloatSlider(min=-1, max=1, step=0.1, value=0, continuous_update=False))"
   ]
  },
  {
   "cell_type": "code",
   "execution_count": null,
   "metadata": {},
   "outputs": [],
   "source": []
  },
  {
   "cell_type": "code",
   "execution_count": null,
   "metadata": {},
   "outputs": [],
   "source": []
  },
  {
   "cell_type": "code",
   "execution_count": null,
   "metadata": {},
   "outputs": [],
   "source": []
  },
  {
   "cell_type": "code",
   "execution_count": null,
   "metadata": {},
   "outputs": [],
   "source": []
  }
 ],
 "metadata": {
  "kernelspec": {
   "display_name": "Python 3",
   "language": "python",
   "name": "python3"
  },
  "language_info": {
   "codemirror_mode": {
    "name": "ipython",
    "version": 3
   },
   "file_extension": ".py",
   "mimetype": "text/x-python",
   "name": "python",
   "nbconvert_exporter": "python",
   "pygments_lexer": "ipython3",
   "version": "3.6.5"
  }
 },
 "nbformat": 4,
 "nbformat_minor": 2
}
