{
 "cells": [
  {
   "cell_type": "markdown",
   "metadata": {},
   "source": [
    "# Péndulos acoplados\n",
    "\n",
    "Federico Cerisola (cerisola@df.uba.ar)\n",
    "\n",
    "Departamento de Física, Facultad de Ciencias Exactas y Naturales, Universidad de Buenos Aires"
   ]
  },
  {
   "cell_type": "code",
   "execution_count": null,
   "metadata": {},
   "outputs": [],
   "source": [
    "%matplotlib inline\n",
    "\n",
    "import numpy as np\n",
    "import matplotlib.pyplot as plt\n",
    "from scipy import linalg\n",
    "\n",
    "from matplotlib import animation, rc\n",
    "from IPython.display import HTML\n",
    "import ipywidgets as widgets\n",
    "\n",
    "#rc('animation', html='jshtml')\n",
    "rc('animation', html='html5')\n",
    "rc('animation', bitrate='120')"
   ]
  },
  {
   "cell_type": "code",
   "execution_count": null,
   "metadata": {},
   "outputs": [],
   "source": [
    "def calculo_modos_normales(mA, mB, k, l, g=9.8):\n",
    "    omega1 = np.sqrt(g/l)\n",
    "    omega2 = np.sqrt(g/l + k*(mA + mB)/(mA*mB))\n",
    "    v1 = np.array([1, 1])\n",
    "    v2 = np.array([1, -mA/mB])\n",
    "    return (omega1, v1), (omega2, v2)\n",
    "\n",
    "\n",
    "def calculo_ci(psiA0, psiB0, velA0, velB0, modos):\n",
    "    (omega1, v1), (omega2, v2) = modos\n",
    "    A = np.array([[v1[0], 0, v2[0], 0],\n",
    "                  [v1[1], 0, v2[1], 0],\n",
    "                  [0, omega1*v1[0], 0, omega2*v2[0]],\n",
    "                  [0, omega1*v1[1], 0, omega2*v2[1]]])\n",
    "    d = np.array([psiA0, psiB0, velA0, velB0])\n",
    "    Amplitudes = linalg.solve(A, d)\n",
    "    C1 = np.sqrt(Amplitudes[0]**2 + Amplitudes[1]**2)\n",
    "    C2 = np.sqrt(Amplitudes[2]**2 + Amplitudes[3]**2)\n",
    "    phi1 = np.arctan2(-Amplitudes[1], Amplitudes[0])\n",
    "    phi2 = np.arctan2(-Amplitudes[3], Amplitudes[2])\n",
    "    return (C1, phi1), (C2, phi2)\n",
    "    #return ((Amplitudes[0], Amplitudes[1]), (Amplitudes[2], Amplitudes[3]))\n",
    "\n",
    "\n",
    "def funciones_posicion_masas(modos, CI):\n",
    "    (omega1, v1), (omega2, v2) = modos\n",
    "    (C1, phi1), (C2, phi2) = CI\n",
    "\n",
    "    psiA = lambda t: v1[0]*C1*np.cos(omega1*t + phi1) + v2[0]*C2*np.cos(omega2*t + phi2)\n",
    "    psiB = lambda t: v1[1]*C1*np.cos(omega1*t + phi1) + v2[1]*C2*np.cos(omega2*t + phi2)\n",
    "    return psiA, psiB"
   ]
  },
  {
   "cell_type": "code",
   "execution_count": null,
   "metadata": {},
   "outputs": [],
   "source": [
    "def graficar_soluciones(tmax, mA, mB, k, l, psiA0, psiB0, velA0, velB0, g=9.8):\n",
    "    modos = calculo_modos_normales(mA, mB, k, l, g=g)\n",
    "    CI = calculo_ci(psiA0, psiB0, velA0, velB0, modos)\n",
    "    psiA, psiB = funciones_posicion_masas(modos, CI)\n",
    "\n",
    "    t = np.linspace(0, tmax, 4000)\n",
    "\n",
    "    plt.figure(figsize=(9,5))\n",
    "    plt.plot(t, psiA(t), label='$\\psi_{A}$')\n",
    "    plt.plot(t, psiB(t), label='$\\psi_{B}$')\n",
    "    plt.xlabel('$t$')\n",
    "    plt.ylabel('Desplazamiento')\n",
    "    plt.grid()\n",
    "    plt.legend()\n",
    "    plt.show()"
   ]
  },
  {
   "cell_type": "markdown",
   "metadata": {},
   "source": [
    "### Widget inetractivo 1: Gráfico desplazamientos para distintas condiciones iniciales / parámetros"
   ]
  },
  {
   "cell_type": "code",
   "execution_count": null,
   "metadata": {},
   "outputs": [],
   "source": [
    "# creamos widget iteractivo\n",
    "widgets.interact(graficar_soluciones,\n",
    "                tmax=widgets.FloatSlider(min=0, max=500, step=1, value=100),\n",
    "                mA=widgets.FloatSlider(min=0, max=10, step=0.1, value=1),\n",
    "                mB=widgets.FloatSlider(min=0, max=10, step=0.1, value=1),\n",
    "                k=widgets.FloatSlider(min=0, max=10, step=0.1, value=0.5),\n",
    "                l=widgets.FloatSlider(min=0, max=10, step=0.1, value=1),\n",
    "                psiA0=widgets.FloatSlider(min=-1, max=1, step=0.1, value=1),\n",
    "                psiB0=widgets.FloatSlider(min=-1, max=1, step=0.1, value=0),\n",
    "                velA0=widgets.FloatSlider(min=-1, max=1, step=0.1, value=0),\n",
    "                velB0=widgets.FloatSlider(min=-1, max=1, step=0.1, value=0))"
   ]
  },
  {
   "cell_type": "code",
   "execution_count": null,
   "metadata": {},
   "outputs": [],
   "source": [
    "def animacion_soluciones(tmax, mA, mB, k, l, psiA0, psiB0, velA0, velB0, g=9.8):\n",
    "    modos = calculo_modos_normales(mA, mB, k, l, g=g)\n",
    "    CI = calculo_ci(psiA0, psiB0, velA0, velB0, modos)\n",
    "    psiA, psiB = funciones_posicion_masas(modos, CI)\n",
    "\n",
    "    t = np.linspace(0, tmax, 300)\n",
    "    psiAt = psiA(t)\n",
    "    psiBt = psiB(t)\n",
    "\n",
    "    fig, (ax1, ax2) = plt.subplots(1, 2, figsize=(12,5))\n",
    "    \n",
    "    ax1.set_xlim([0, tmax])\n",
    "    ax1.set_ylim([np.min([psiAt, psiBt]), np.max([psiAt, psiBt])])\n",
    "    lineA, = ax1.plot([], [], label='$\\psi_{A}$')\n",
    "    lineB, = ax1.plot([], [], label='$\\psi_{A}$')\n",
    "    ax1.set_xlabel('$t$')\n",
    "    ax1.set_ylabel('Despalazamiento')\n",
    "    \n",
    "    L = np.max([psiAt, psiBt])\n",
    "    posEqA = L\n",
    "    posEqB = 3*L\n",
    "    ax2.set_xlim([0, 4*L])\n",
    "    ax2.set_ylim([0, 1])\n",
    "    lineTecho, = ax2.plot([0, 4*L], [0.9, 0.9], '-', color='black', linewidth=3.0)\n",
    "    linePendA, = ax2.plot([posEqA, posEqA], [0.9, 0.1], '-', color='C0', linewidth=2.0)\n",
    "    linePendB, = ax2.plot([posEqB, posEqB], [0.9, 0.1], '-', color='C1', linewidth=2.0)\n",
    "    lineResor, = ax2.plot([posEqA, posEqB], [0.1, 0.1], '--', color='gray', linewidth=1.5)\n",
    "    masaPendA, = ax2.plot([posEqA], [0.1], 'o', color='C0', markersize=10.0)\n",
    "    masaPendB, = ax2.plot([posEqB], [0.1], 'o', color='C1', markersize=10.0)\n",
    "    \n",
    "    def init():\n",
    "        lineA.set_data([], [])\n",
    "        lineB.set_data([], [])\n",
    "        linePendA.set_xdata([posEqA, posEqA])\n",
    "        linePendB.set_xdata([posEqB, posEqB])\n",
    "        lineResor.set_xdata([posEqA, posEqB])\n",
    "        masaPendA.set_xdata([posEqA])\n",
    "        masaPendB.set_xdata([posEqB])\n",
    "        return lineA, lineB, linePendA, linePendB, masaPendA, masaPendB\n",
    "    \n",
    "    def animate(i):\n",
    "        lineA.set_data(t[:i], psiAt[:i])\n",
    "        lineB.set_data(t[:i], psiBt[:i])\n",
    "        linePendA.set_xdata([posEqA, psiAt[i] + posEqA])\n",
    "        linePendB.set_xdata([posEqB, psiBt[i] + posEqB])\n",
    "        lineResor.set_xdata([psiAt[i] + posEqA, psiBt[i] + posEqB])\n",
    "        masaPendA.set_xdata([psiAt[i] + posEqA])\n",
    "        masaPendB.set_xdata([psiBt[i] + posEqB])\n",
    "        return lineA, lineB, linePendA, linePendB, masaPendA, masaPendB \n",
    "\n",
    "    anim = animation.FuncAnimation(fig, animate, frames=len(t), interval=100, blit=True, init_func=init)\n",
    "    #HTML(anim.to_jshtml())\n",
    "    return anim"
   ]
  },
  {
   "cell_type": "markdown",
   "metadata": {},
   "source": [
    "### Animación 1: Condiciones iniciales para excitar modo 1"
   ]
  },
  {
   "cell_type": "code",
   "execution_count": null,
   "metadata": {},
   "outputs": [],
   "source": [
    "animacion_soluciones(tmax=50, mA=1, mB=1, k=0.5, l=1, psiA0=1, psiB0=1, velA0=0, velB0=0)"
   ]
  },
  {
   "cell_type": "markdown",
   "metadata": {},
   "source": [
    "### Animación 2: Condiciones iniciales para excitar modo 2"
   ]
  },
  {
   "cell_type": "code",
   "execution_count": null,
   "metadata": {},
   "outputs": [],
   "source": [
    "animacion_soluciones(tmax=50, mA=1, mB=1, k=0.5, l=1, psiA0=-1, psiB0=1, velA0=0, velB0=0)"
   ]
  },
  {
   "cell_type": "markdown",
   "metadata": {},
   "source": [
    "### Animación 3: Condiciones iniciales para ver batidos"
   ]
  },
  {
   "cell_type": "code",
   "execution_count": null,
   "metadata": {},
   "outputs": [],
   "source": [
    "animacion_soluciones(tmax=50, mA=1, mB=1, k=0.5, l=1, psiA0=1, psiB0=0, velA0=0, velB0=0)"
   ]
  },
  {
   "cell_type": "markdown",
   "metadata": {},
   "source": [
    "### Widget interactivo 2: Animación movimiento para distintas condciones iniciales / parámetros\n",
    "\n",
    "(la versión online tarda un poco en generar la animación ...)"
   ]
  },
  {
   "cell_type": "code",
   "execution_count": null,
   "metadata": {},
   "outputs": [],
   "source": [
    "# creamos widget iteractivo\n",
    "widgets.interact(animacion_soluciones,\n",
    "                tmax=widgets.FloatSlider(min=0, max=500, step=1, value=50, continuous_update=False),\n",
    "                mA=widgets.FloatSlider(min=0, max=10, step=0.1, value=1, continuous_update=False),\n",
    "                mB=widgets.FloatSlider(min=0, max=10, step=0.1, value=1, continuous_update=False),\n",
    "                k=widgets.FloatSlider(min=0, max=10, step=0.1, value=0.5, continuous_update=False),\n",
    "                l=widgets.FloatSlider(min=0, max=10, step=0.1, value=1, continuous_update=False),\n",
    "                psiA0=widgets.FloatSlider(min=-1, max=1, step=0.1, value=1, continuous_update=False),\n",
    "                psiB0=widgets.FloatSlider(min=-1, max=1, step=0.1, value=0, continuous_update=False),\n",
    "                velA0=widgets.FloatSlider(min=-1, max=1, step=0.1, value=0, continuous_update=False),\n",
    "                velB0=widgets.FloatSlider(min=-1, max=1, step=0.1, value=0, continuous_update=False))"
   ]
  },
  {
   "cell_type": "markdown",
   "metadata": {},
   "source": [
    "---\n",
    "\n",
    "## Forzado"
   ]
  },
  {
   "cell_type": "code",
   "execution_count": 51,
   "metadata": {},
   "outputs": [],
   "source": [
    "# función para clacular la amplitud elastica del oscilador forazado\n",
    "def Ael(omega0, Gamma, f0, Omega):\n",
    "    # definimos variables axuiliares\n",
    "    dw = omega0**2 - Omega**2\n",
    "    og = Omega * Gamma\n",
    "    # numerador\n",
    "    num = f0 * dw\n",
    "    # denominador\n",
    "    den = dw**2 + og**2\n",
    "    return num / den\n",
    "\n",
    "\n",
    "# función para clacular la amplitud abosrbente del oscilador forazado\n",
    "def Aabs(omega0, Gamma, f0, Omega):\n",
    "    # definimos variables axuiliares\n",
    "    dw = omega0**2 - Omega**2\n",
    "    og = Omega * Gamma\n",
    "    # numerador\n",
    "    num = f0 * og\n",
    "    # denominador\n",
    "    den = dw**2 + og**2\n",
    "    return num / den"
   ]
  },
  {
   "cell_type": "code",
   "execution_count": 53,
   "metadata": {},
   "outputs": [],
   "source": [
    "def calculo_fuerza_coordenadas_normales(modos, f0):\n",
    "    (omega1, v1), (omega2, v2) = modos\n",
    "\n",
    "    # calculo de vector fuerzas sobre modos normales\n",
    "    S = np.array([v1, v2]).T\n",
    "    Sinv = linalg.inv(S)\n",
    "    G = np.dot(Sinv, f0)\n",
    "\n",
    "    return G\n",
    "\n",
    "\n",
    "def calculo_amplitudes_forzado_estacionario(modos, G, Omega, Gamma):\n",
    "    (omega1, v1), (omega2, v2) = modos\n",
    "\n",
    "    # calculo amplitudes absorbente y elastica coordenadas normales\n",
    "    Ael1 = Ael(omega1, Gamma, G[0], Omega)\n",
    "    Aabs1 = Aabs(omega1, Gamma, G[0], Omega)\n",
    "    Ael2 = Ael(omega2, Gamma, G[1], Omega)\n",
    "    Aabs2 = Aabs(omega2, Gamma, G[1], Omega)\n",
    "\n",
    "    # pasaje a amplitudes coordenadas particulas\n",
    "    AelA = (v1[0]*Ael1 + v2[0]*Ael2)\n",
    "    AelB = (v1[1]*Ael1 + v2[1]*Ael2)\n",
    "    AabsA = (v1[0]*Aabs1 + v2[0]*Aabs2)\n",
    "    AabsB = (v1[1]*Aabs1 + v2[1]*Aabs2)\n",
    "\n",
    "    return (AelA, AabsA), (AelB, AabsB), (Ael1, Aabs1), (Ael2, Aabs2)"
   ]
  },
  {
   "cell_type": "code",
   "execution_count": 57,
   "metadata": {},
   "outputs": [],
   "source": [
    "def funciones_posicion_masas_forzado_estacionario(modos, f0, Omega, Gamma):\n",
    "    (omega1, v1), (omega2, v2) = modos\n",
    "    G = calculo_fuerza_coordenadas_normales(modos, f0)\n",
    "    (AelA, AabsA), (AelB, AabsB), _, _ = calculo_amplitudes_forzado_estacionario(modos, G, Omega, Gamma)\n",
    "\n",
    "    psiA = lambda t: AelA*np.cos(Omega*t) + AabsA*np.sin(Omega*t)\n",
    "    psiB = lambda t: AelB*np.cos(Omega*t) + AabsB*np.sin(Omega*t)\n",
    "    return psiA, psiB"
   ]
  },
  {
   "cell_type": "code",
   "execution_count": 58,
   "metadata": {},
   "outputs": [],
   "source": [
    "def graficar_soluciones_forzado_estacionario(mA, mB, k, l, F0, Omega, Gamma, g=9.8):\n",
    "    modos = calculo_modos_normales(mA, mB, k, l, g=g)\n",
    "    f0 = np.array([F0/mA, 0])\n",
    "    psiA, psiB = funciones_posicion_masas_forzado_estacionario(modos, f0, Omega, Gamma)\n",
    "\n",
    "    tmax = 5 * (2 * np.pi / Omega)\n",
    "    t = np.linspace(0, tmax, 1000)\n",
    "\n",
    "    plt.figure(figsize=(9,5))\n",
    "    plt.plot(t, psiA(t), label='$\\psi_{A}$')\n",
    "    plt.plot(t, psiB(t), label='$\\psi_{B}$')\n",
    "    plt.xlabel('$t$')\n",
    "    plt.ylabel('Desplazamiento')\n",
    "    plt.grid()\n",
    "    plt.legend()\n",
    "    plt.show()\n",
    "    print(modos[0][0], modos[1][0])"
   ]
  },
  {
   "cell_type": "code",
   "execution_count": 61,
   "metadata": {},
   "outputs": [],
   "source": [
    "def funciones_amplitudes_forzado_estacionario(modos, f0, Gamma):\n",
    "    (omega1, v1), (omega2, v2) = modos\n",
    "    G = calculo_fuerza_coordenadas_normales(modos, f0)\n",
    "    \n",
    "    AelA = lambda Omega: v1[0]*Ael(omega1, Gamma, G[0], Omega) + v2[0]*Ael(omega2, Gamma, G[1], Omega)\n",
    "    AelB = lambda Omega: v1[1]*Ael(omega1, Gamma, G[0], Omega) + v2[1]*Ael(omega2, Gamma, G[1], Omega)\n",
    "    AabsA = lambda Omega: v1[0]*Aabs(omega1, Gamma, G[0], Omega) + v2[0]*Aabs(omega2, Gamma, G[1], Omega)\n",
    "    AabsB = lambda Omega: v1[1]*Aabs(omega1, Gamma, G[0], Omega) + v2[1]*Aabs(omega2, Gamma, G[1], Omega)\n",
    "\n",
    "    return (AelA, AabsA), (AelB, AabsB)"
   ]
  },
  {
   "cell_type": "code",
   "execution_count": 116,
   "metadata": {},
   "outputs": [],
   "source": [
    "def graficar_amplitudes_forzado_estacionario(mA, mB, k, l, F0, Gamma, OmegaMin, OmegaMax, g=9.8):\n",
    "    modos = calculo_modos_normales(mA, mB, k, l, g=g)\n",
    "    (omega1, v1), (omega2, v2) = modos\n",
    "    f0 = np.array([F0/mA, 0])\n",
    "    (AelA, AabsA), (AelB, AabsB) = funciones_amplitudes_forzado_estacionario(modos, f0, Gamma)\n",
    "\n",
    "    Omega = np.linspace(OmegaMin, OmegaMax, 2000)\n",
    "\n",
    "    fig, (ax1, ax2) = plt.subplots(1, 2, figsize=(12,5))\n",
    "\n",
    "    ax1.plot(Omega, AelA(Omega), label='$A_{el,A}$')\n",
    "    ax1.plot(Omega, AelB(Omega), label='$A_{el,B}$')\n",
    "    ax1.axvline(omega1, linestyle='--', linewidth=1.0, color='black', label='$\\omega_1$')\n",
    "    ax1.axvline(omega2, linestyle='-.', linewidth=1.0, color='black', label='$\\omega_2$')\n",
    "    ax1.grid()\n",
    "    ax1.set_xlabel('$\\Omega$')\n",
    "    ax1.set_ylabel('Amplitud Elástica')\n",
    "    ax1.legend()\n",
    "\n",
    "    ax2.plot(Omega, AabsA(Omega), label='$A_{abs,A}$')\n",
    "    ax2.plot(Omega, AabsB(Omega), label='$A_{abs,B}$')\n",
    "    ax2.axvline(omega1, linestyle='--', linewidth=1.0, color='black', label='$\\omega_1$')\n",
    "    ax2.axvline(omega2, linestyle='-.', linewidth=1.0, color='black', label='$\\omega_2$')\n",
    "    ax2.grid()\n",
    "    ax2.set_xlabel('$\\Omega$')\n",
    "    ax2.set_ylabel('Amplitud Absorbente')\n",
    "    ax2.legend()\n",
    "\n",
    "    plt.show()"
   ]
  },
  {
   "cell_type": "markdown",
   "metadata": {},
   "source": [
    "### Widget inetractivo 3: Gráfico desplazamientos forzado estacionario para distintas parámetros"
   ]
  },
  {
   "cell_type": "code",
   "execution_count": 114,
   "metadata": {},
   "outputs": [
    {
     "data": {
      "application/vnd.jupyter.widget-view+json": {
       "model_id": "0d51a3fd96f84325a650c5732c1f1529",
       "version_major": 2,
       "version_minor": 0
      },
      "text/plain": [
       "interactive(children=(FloatSlider(value=1.0, description='mA', max=10.0), FloatSlider(value=1.0, description='…"
      ]
     },
     "metadata": {},
     "output_type": "display_data"
    },
    {
     "data": {
      "text/plain": [
       "<function __main__.graficar_soluciones_forzado_estacionario(mA, mB, k, l, F0, Omega, Gamma, g=9.8)>"
      ]
     },
     "execution_count": 114,
     "metadata": {},
     "output_type": "execute_result"
    }
   ],
   "source": [
    "# creamos widget iteractivo\n",
    "widgets.interact(graficar_soluciones_forzado_estacionario,\n",
    "                mA=widgets.FloatSlider(min=0, max=10, step=0.1, value=1),\n",
    "                mB=widgets.FloatSlider(min=0, max=10, step=0.1, value=1),\n",
    "                k=widgets.FloatSlider(min=0, max=10, step=0.1, value=0.5),\n",
    "                l=widgets.FloatSlider(min=0, max=10, step=0.1, value=1),\n",
    "                F0=widgets.FloatSlider(min=0, max=1, step=0.1, value=0.1),\n",
    "                Omega=widgets.FloatSlider(min=0, max=10, step=0.1, value=0.1),\n",
    "                Gamma=widgets.FloatSlider(min=0, max=1, step=0.001, value=0.001))"
   ]
  },
  {
   "cell_type": "markdown",
   "metadata": {},
   "source": [
    "### Widget inetractivo 4: Gráfico amplitudes solución forzado estacionario para distintas parámetros"
   ]
  },
  {
   "cell_type": "code",
   "execution_count": 117,
   "metadata": {},
   "outputs": [
    {
     "data": {
      "application/vnd.jupyter.widget-view+json": {
       "model_id": "da66ff94474b43e5bc4aa1efec625e2b",
       "version_major": 2,
       "version_minor": 0
      },
      "text/plain": [
       "interactive(children=(FloatSlider(value=1.0, description='mA', max=10.0), FloatSlider(value=1.0, description='…"
      ]
     },
     "metadata": {},
     "output_type": "display_data"
    },
    {
     "data": {
      "text/plain": [
       "<function __main__.graficar_amplitudes_forzado_estacionario(mA, mB, k, l, F0, Gamma, OmegaMin, OmegaMax, g=9.8)>"
      ]
     },
     "execution_count": 117,
     "metadata": {},
     "output_type": "execute_result"
    }
   ],
   "source": [
    "# creamos widget iteractivo\n",
    "widgets.interact(graficar_amplitudes_forzado_estacionario,\n",
    "                mA=widgets.FloatSlider(min=0, max=10, step=0.1, value=1),\n",
    "                mB=widgets.FloatSlider(min=0, max=10, step=0.1, value=1),\n",
    "                k=widgets.FloatSlider(min=0, max=100, step=1, value=40),\n",
    "                l=widgets.FloatSlider(min=0, max=10, step=0.1, value=1),\n",
    "                F0=widgets.FloatSlider(min=0, max=1, step=0.1, value=0.1),\n",
    "                Gamma=widgets.FloatSlider(min=0, max=1, step=0.001, value=0.2),\n",
    "                OmegaMin=widgets.FloatSlider(min=0, max=10, step=0.1, value=0),\n",
    "                OmegaMax=widgets.FloatSlider(min=0, max=40, step=0.1, value=14))"
   ]
  },
  {
   "cell_type": "code",
   "execution_count": 112,
   "metadata": {},
   "outputs": [
    {
     "data": {
      "image/png": "[encoded data removed]",
      "text/plain": [
       "<Figure size 864x432 with 1 Axes>"
      ]
     },
     "metadata": {},
     "output_type": "display_data"
    }
   ],
   "source": [
    "def graficar_amplitudes_forzado_estacionario_noroz(mA, mB, k, l, F0, OmegaMin, OmegaMax, g=9.8, Gamma=0.01):\n",
    "    modos = calculo_modos_normales(mA, mB, k, l, g=g)\n",
    "    (omega1, v1), (omega2, v2) = modos\n",
    "    f0 = np.array([F0/mA, 0])\n",
    "    (AelA, AabsA), (AelB, AabsB) = funciones_amplitudes_forzado_estacionario(modos, f0, Gamma)\n",
    "\n",
    "    Omega = np.linspace(OmegaMin, OmegaMax, 8000)\n",
    "\n",
    "    plt.figure(figsize=(12,6))\n",
    "    plt.plot(Omega, AelA(Omega), label='$A_{el,A}$')\n",
    "    plt.plot(Omega, AelB(Omega), label='$A_{el,B}$')\n",
    "    plt.axvline(omega1, linestyle='--', color='black', label='$\\omega_1$')\n",
    "    plt.axvline(omega2, linestyle='-.', color='black', label='$\\omega_2$')\n",
    "    plt.xlim([1, 8])\n",
    "    plt.ylim([-1, 1])\n",
    "    plt.grid()\n",
    "    plt.xlabel('$\\Omega$')\n",
    "    plt.ylabel('Amplitud Elástica')\n",
    "    plt.legend()\n",
    "    plt.show()\n",
    "\n",
    "graficar_amplitudes_forzado_estacionario_noroz(mA=1, mB=1, k=17, l=1, F0=1, OmegaMin=0, OmegaMax=10, Gamma=0)"
   ]
  },
  {
   "cell_type": "code",
   "execution_count": 119,
   "metadata": {},
   "outputs": [],
   "source": [
    "def animacion_soluciones_forzado_estacionario(mA, mB, k, l, F0, Gamma, OmegaMin, OmegaMax, g=9.8):\n",
    "    modos = calculo_modos_normales(mA, mB, k, l, g=g)\n",
    "    f0 = np.array([F0/mA, 0])\n",
    "\n",
    "    nOmega = 10\n",
    "    Omega = np.linspace(OmegaMin, OmegaMax, nOmega)\n",
    "    nt = 50\n",
    "    nT = nt*nOmega\n",
    "    tmax = 0\n",
    "\n",
    "    psiAt = np.zeros(nT)\n",
    "    psiBt = np.zeros(nT)\n",
    "    Omegat = np.zeros(nT)\n",
    "    t = np.zeros(nT)\n",
    "    for i in range(len(Omega)):\n",
    "        psiA, psiB = funciones_posicion_masas_forzado_estacionario(modos, f0, Omega[i], Gamma)\n",
    "        tf = 6 * np.pi / Omega[i]\n",
    "        ts = np.linspace(0, tf, nt)\n",
    "        tmax += ts[-1]\n",
    "        t[i*nt:(i+1)*nt] = ts\n",
    "        psiAt[i*nt:(i+1)*nt] = psiA(ts)\n",
    "        psiBt[i*nt:(i+1)*nt] = psiB(ts)\n",
    "        Omegat[i*nt:(i+1)*nt] = Omega[i]\n",
    "\n",
    "    fig, (ax1, ax2) = plt.subplots(1, 2, figsize=(12,5))\n",
    "\n",
    "    ax1.set_xlim([0, tmax])\n",
    "    ax1.set_ylim([np.min([psiAt, psiBt]), np.max([psiAt, psiBt])])\n",
    "    lineA, = ax1.plot([], [], label='$\\psi_{A}$')\n",
    "    lineB, = ax1.plot([], [], label='$\\psi_{A}$')\n",
    "    ax1.set_xlabel('$t$')\n",
    "    ax1.set_ylabel('Despalazamiento')\n",
    "\n",
    "    L = np.max([psiAt, psiBt])\n",
    "    posEqA = L\n",
    "    posEqB = 3*L\n",
    "    ax2.set_xlim([0, 4*L])\n",
    "    ax2.set_ylim([0, 1])\n",
    "    lineTecho, = ax2.plot([0, 4*L], [0.9, 0.9], '-', color='black', linewidth=3.0)\n",
    "    linePendA, = ax2.plot([posEqA, posEqA], [0.9, 0.1], '-', color='C0', linewidth=2.0)\n",
    "    linePendB, = ax2.plot([posEqB, posEqB], [0.9, 0.1], '-', color='C1', linewidth=2.0)\n",
    "    lineResor, = ax2.plot([posEqA, posEqB], [0.1, 0.1], '--', color='gray', linewidth=1.5)\n",
    "    masaPendA, = ax2.plot([posEqA], [0.1], 'o', color='C0', markersize=10.0)\n",
    "    masaPendB, = ax2.plot([posEqB], [0.1], 'o', color='C1', markersize=10.0)\n",
    "\n",
    "    fig.tight_layout()\n",
    "\n",
    "    def init():\n",
    "        lineA.set_data([], [])\n",
    "        lineB.set_data([], [])\n",
    "        linePendA.set_xdata([posEqA, posEqA])\n",
    "        linePendB.set_xdata([posEqB, posEqB])\n",
    "        lineResor.set_xdata([posEqA, posEqB])\n",
    "        masaPendA.set_xdata([posEqA])\n",
    "        masaPendB.set_xdata([posEqB])\n",
    "        return lineA, lineB, linePendA, linePendB, masaPendA, masaPendB\n",
    "\n",
    "    def animate(i):\n",
    "        lineA.set_data(t[:i], psiAt[:i])\n",
    "        lineB.set_data(t[:i], psiBt[:i])\n",
    "        linePendA.set_xdata([posEqA, psiAt[i] + posEqA])\n",
    "        linePendB.set_xdata([posEqB, psiBt[i] + posEqB])\n",
    "        lineResor.set_xdata([psiAt[i] + posEqA, psiBt[i] + posEqB])\n",
    "        masaPendA.set_xdata([psiAt[i] + posEqA])\n",
    "        masaPendB.set_xdata([psiBt[i] + posEqB])\n",
    "        return lineA, lineB, linePendA, linePendB, masaPendA, masaPendB\n",
    "\n",
    "    anim = animation.FuncAnimation(fig, animate, frames=nT, interval=100, blit=True, init_func=init)\n",
    "    #HTML(anim.to_jshtml())\n",
    "    return anim"
   ]
  },
  {
   "cell_type": "code",
   "execution_count": null,
   "metadata": {},
   "outputs": [],
   "source": []
  }
 ],
 "metadata": {
  "kernelspec": {
   "display_name": "Python 3",
   "language": "python",
   "name": "python3"
  },
  "language_info": {
   "codemirror_mode": {
    "name": "ipython",
    "version": 3
   },
   "file_extension": ".py",
   "mimetype": "text/x-python",
   "name": "python",
   "nbconvert_exporter": "python",
   "pygments_lexer": "ipython3",
   "version": "3.6.5"
  }
 },
 "nbformat": 4,
 "nbformat_minor": 2
}
