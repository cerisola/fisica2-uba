{
 "cells": [
  {
   "cell_type": "code",
   "execution_count": 1,
   "metadata": {},
   "outputs": [],
   "source": [
    "import numpy as np\n",
    "\n",
    "import matplotlib.pyplot as plt\n",
    "\n",
    "from matplotlib import animation, rc\n",
    "from IPython.display import HTML\n",
    "import ipywidgets as widgets\n",
    "\n",
    "rc('animation', html='jshtml')\n",
    "#rc('animation', html='html5', bitrate='300')"
   ]
  },
  {
   "cell_type": "code",
   "execution_count": 2,
   "metadata": {},
   "outputs": [],
   "source": [
    "def graficar_cadena(N, m, k, nmodo, tipo='longitudinales'):\n",
    "    # posicion masas en equilibrio\n",
    "    xmasas = np.arange(1,N+1) / (N + 1)\n",
    "    ymasas = np.zeros(xmasas.shape)\n",
    "\n",
    "    # posicion resortes en equilibrio\n",
    "    xresortes = np.arange(0,N+2) / (N + 1)\n",
    "    yresortes = np.zeros(xresortes.shape)\n",
    "\n",
    "    # frecuncia y autovector del modo\n",
    "    w0 = np.sqrt(k/m)\n",
    "    wmodo = 2*w0*np.abs(np.sin(nmodo*np.pi/(2*N + 2)))\n",
    "    Amodo = np.sin(nmodo*np.pi*np.arange(1, N + 1)/(N + 1))\n",
    "\n",
    "    # evaluar psi_n(t) en un ciclo\n",
    "    npoints = 40\n",
    "    tcycle = 2*np.pi/wmodo\n",
    "    t = np.linspace(0, tcycle, npoints)\n",
    "    psit = np.zeros((N, npoints))\n",
    "    for n in np.arange(N):\n",
    "        psit[n,:] = 0.05 * Amodo[n] * np.cos(wmodo * t)\n",
    "\n",
    "    # grafico de las posiciones en equilbirio de las masas\n",
    "    fig, ax = plt.subplots(1, 1, figsize=(12,5))\n",
    "    plt.close()\n",
    "    line_masas, = ax.plot(xmasas, ymasas, 'o', markersize=8, color='black')\n",
    "    line_resortes, = ax.plot(xresortes, yresortes, '-', linewidth=1.1, color='black')\n",
    "    ax.set_xlim(0, 1)\n",
    "    fig.tight_layout()\n",
    "\n",
    "    # funcion que actualiza posicion de las masas en el grafico al tiempo t[i]\n",
    "    def animate(i):\n",
    "        if tipo == 'longitudinales':\n",
    "            xmasas_new = xmasas + psit[:,i]\n",
    "            xresortes_new = xresortes\n",
    "            xresortes_new[1:-1] += psit[:,i]\n",
    "            line_masas.set_xdata(xmasas_new)\n",
    "            line_resortes.set_xdata(xresortes_new)\n",
    "        elif tipo == 'transversales':\n",
    "            ymasas_new = ymasas + psit[:,i]\n",
    "            yresortes_new = yresortes\n",
    "            yresortes_new[1:-1] = ymasas_new\n",
    "            line_masas.set_ydata(ymasas_new)\n",
    "            line_resortes.set_ydata(yresortes_new)\n",
    "        return line_masas, line_resortes\n",
    "\n",
    "    # ejecutar animacion\n",
    "    interval = 1000 * 2 / npoints\n",
    "    anim = animation.FuncAnimation(fig, animate, frames=npoints, interval=interval,\n",
    "                                   repeat=True, blit=True)\n",
    "    #HTML(anim.to_jshtml())\n",
    "    #HTML(anim.to_html5_video())\n",
    "    return anim"
   ]
  },
  {
   "cell_type": "code",
   "execution_count": 3,
   "metadata": {},
   "outputs": [
    {
     "data": {
      "application/vnd.jupyter.widget-view+json": {
       "model_id": "7bdf95101c304f97a0c2891c87709dd7",
       "version_major": 2,
       "version_minor": 0
      },
      "text/plain": [
       "interactive(children=(IntSlider(value=3, continuous_update=False, description='N', max=20, min=1), IntSlider(v…"
      ]
     },
     "metadata": {},
     "output_type": "display_data"
    },
    {
     "data": {
      "text/plain": [
       "<function __main__.graficar_cadena(N, m, k, nmodo, tipo='longitudinales')>"
      ]
     },
     "execution_count": 3,
     "metadata": {},
     "output_type": "execute_result"
    }
   ],
   "source": [
    "slider_N = widgets.IntSlider(min=1,max=20,step=1,value=3,continuous_update=False)\n",
    "slider_nmodo = widgets.IntSlider(min=1,step=1,value=1,continuous_update=False)\n",
    "widgets.jslink((slider_N, 'value'), (slider_nmodo, 'max'))\n",
    "widgets.interact(graficar_cadena, N=slider_N, nmodo=slider_nmodo,\n",
    "                 m=widgets.fixed(1), k=widgets.fixed(1),\n",
    "                 tipo=widgets.RadioButtons(options=['longitudinales', 'transversales'],\n",
    "                    value='transversales', description='Tipo:'))"
   ]
  },
  {
   "cell_type": "code",
   "execution_count": null,
   "metadata": {},
   "outputs": [],
   "source": []
  }
 ],
 "metadata": {
  "kernelspec": {
   "display_name": "Python 3",
   "language": "python",
   "name": "python3"
  },
  "language_info": {
   "codemirror_mode": {
    "name": "ipython",
    "version": 3
   },
   "file_extension": ".py",
   "mimetype": "text/x-python",
   "name": "python",
   "nbconvert_exporter": "python",
   "pygments_lexer": "ipython3",
   "version": "3.7.4"
  }
 },
 "nbformat": 4,
 "nbformat_minor": 4
}
