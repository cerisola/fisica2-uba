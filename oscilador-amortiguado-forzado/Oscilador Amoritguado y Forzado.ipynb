{
 "cells": [
  {
   "cell_type": "markdown",
   "metadata": {},
   "source": [
    "# Oscilador 1D Amortiguado y Forzado\n",
    "\n",
    "Federico Cerisola (cerisola@df.uba.ar)\n",
    "\n",
    "Departamento de Física, Facultad de Ciencias Exactas y Naturales, Universidad de Buenos Aires"
   ]
  },
  {
   "cell_type": "code",
   "execution_count": 1,
   "metadata": {},
   "outputs": [],
   "source": [
    "import numpy as np\n",
    "import matplotlib.pyplot as plt\n",
    "import ipywidgets as widgets"
   ]
  },
  {
   "cell_type": "markdown",
   "metadata": {},
   "source": [
    "## Oscilador amortiguado\n",
    "\n",
    "Como repasamos en clase, para un oscilador unidimensional amortiguado (con una fuerza de amortiguamiento proporcional a la velocidad) tenemos la siguiente ecuación de movimiento\n",
    "\n",
    "$$\n",
    " \\ddot{\\psi} = -\\omega_0^2\\psi -\\Gamma\\dot{\\psi}\n",
    "$$\n",
    "\n",
    "con $\\omega_0^2 = \\frac{k}{m}$ y $\\Gamma$ la constante de amortiguamiento por unidad de masa.\n",
    "\n",
    "Como vimos, la forma funcional de las soluciones cambia según la realción entre $\\omega_0$ y $\\Gamma$, obteniendo tres casos distintos: subarmotiguado, sobreamortiguado y amortiguamiento crítico."
   ]
  },
  {
   "cell_type": "markdown",
   "metadata": {},
   "source": [
    "### Subamoritguado: $\\omega_0 > \\frac{\\Gamma}{2}$\n",
    "\n",
    "En este caso, vimos que la solución más general es de la forma\n",
    "\n",
    "$$\n",
    "\\psi(t) = A\\,e^{-\\frac{\\Gamma}{2}t}\\cos(\\omega_1 t) + B\\,e^{-\\frac{\\Gamma}{2}t}\\sin(\\omega_1 t)\n",
    "$$\n",
    "\n",
    "con $\\omega_1 = \\sqrt{\\omega_0^2 - \\left(\\frac{\\Gamma}{2}\\right)^2}$. Imponiendo condiciones iniciales vimos además que las constantes $A$ y $B$ son tales que\n",
    "\n",
    "$$\n",
    "\\psi(t) = e^{-\\frac{\\Gamma}{2}t}\\left(\n",
    "    \\psi(0)\\cos(\\omega_1 t) +\n",
    "    \\left(\\dot{\\psi}(0) + \\frac{\\Gamma}{2}\\psi(0)\\right)\\frac{\\sin(\\omega_1 t)}{\\omega_1}\\right)\n",
    "$$\n",
    "\n",
    "A continuación se muestra código para graficar las soluciones para disintas condiciones iniciales."
   ]
  },
  {
   "cell_type": "code",
   "execution_count": 8,
   "metadata": {},
   "outputs": [],
   "source": [
    "# definimos una funcion que calcula la solucion subamortiguada\n",
    "# la funcion toma como input el tiempo, omega_0, Gamma\n",
    "# y las condiciones iniciales en posicion (psi0) y velocidad (vel0)\n",
    "def psi_subamort(t, omega0, Gamma, psi0, vel0):\n",
    "    # por simplicadad definimos Gamma/2 como una propria variable\n",
    "    Gamma2 = Gamma/2\n",
    "    # definimos el omega1 dado \n",
    "    omega1 = np.sqrt(omega0**2 - Gamma2**2)\n",
    "    psi = np.exp(-(Gamma2)*t)*(psi0*np.cos(omega1*t) + (vel0 + Gamma2*psi0)*np.sin(omega1*t)/omega1)\n",
    "    return psi"
   ]
  },
  {
   "cell_type": "code",
   "execution_count": 9,
   "metadata": {},
   "outputs": [],
   "source": [
    "# definimos una funcion auxiliar para graficar\n",
    "# esto nos sirve para despues poder usar la\n",
    "# interfaz interactiva\n",
    "def plot_psi_subamort(omega0, Gamma, psi0, vel0):\n",
    "    # vamos a graficar hasta t_max (5 ciclos)\n",
    "    t_max = 5 * 2*np.pi/omega0\n",
    "    # definimos vector con tiempos discretizado en 2000 puntos\n",
    "    t = np.linspace(0, t_max, 2000)\n",
    "    # calculamos solucion\n",
    "    psi = psi_subamort(t, omega0, Gamma, psi0, vel0)\n",
    "    \n",
    "    # graficamos usando matplotlib\n",
    "    plt.figure()\n",
    "    plt.plot(t, psi)\n",
    "    plt.xlabel('$t$')\n",
    "    plt.ylabel('$\\psi$')\n",
    "    plt.grid()\n",
    "    plt.show()"
   ]
  },
  {
   "cell_type": "code",
   "execution_count": 10,
   "metadata": {},
   "outputs": [
    {
     "data": {
      "application/vnd.jupyter.widget-view+json": {
       "model_id": "03f0ab51279941f08aaba0451e07c8ca",
       "version_major": 2,
       "version_minor": 0
      },
      "text/plain": [
       "interactive(children=(FloatSlider(value=1.0, description='omega0', max=10.0, step=1.0), FloatSlider(value=0.5,…"
      ]
     },
     "metadata": {},
     "output_type": "display_data"
    },
    {
     "data": {
      "text/plain": [
       "<function __main__.plot_psi_subamort(omega0, Gamma, psi0, vel0)>"
      ]
     },
     "execution_count": 10,
     "metadata": {},
     "output_type": "execute_result"
    }
   ],
   "source": [
    "# creamos widget iteractivo\n",
    "widgets.interact(plot_psi_subamort,\n",
    "                omega0=widgets.FloatSlider(min=0, max=10, step=1, value=1),\n",
    "                Gamma=widgets.FloatSlider(min=0, max=10, step=1, value=0.5),\n",
    "                psi0=widgets.FloatSlider(min=-1, max=1, step=0.1, value=0.5),\n",
    "                vel0=widgets.FloatSlider(min=-1, max=1, step=0.1, value=0.1))"
   ]
  },
  {
   "cell_type": "markdown",
   "metadata": {},
   "source": [
    "### Sobreamoritguado: $\\omega_0 < \\frac{\\Gamma}{2}$\n",
    "\n",
    "En este caso, vimos que la solución más general es de la forma\n",
    "\n",
    "$$\n",
    "\\psi(t) = A\\,e^{-\\left(\\frac{\\Gamma}{2} - \\omega_2\\right)t} +\n",
    "          B\\,e^{-\\left(\\frac{\\Gamma}{2} + \\omega_2\\right)t}\n",
    "$$\n",
    "\n",
    "con $\\omega_2 = \\sqrt{\\left(\\frac{\\Gamma}{2}\\right)^2 - \\omega_0^2}$.\n",
    "\n",
    "Es más, utilizando el truco propuesto en la guía y usando la definición de seno y coseno hiperbólicos, la solución más general, con las condciones iniciales ya impuestas, se puede reescribir como (ej. 2)\n",
    "\n",
    "$$\n",
    "\\psi(t) = e^{-\\frac{\\Gamma}{2}t}\\left(\n",
    "    \\psi(0)\\cosh(\\omega_2 t) +\n",
    "    \\left(\\dot{\\psi}(0) + \\frac{\\Gamma}{2}\\psi(0)\\right)\\frac{\\sinh(\\omega_2 t)}{\\omega_2}\\right)\n",
    "$$\n",
    "\n",
    "A continuación se muestra código para graficar las soluciones para disintas condiciones iniciales."
   ]
  },
  {
   "cell_type": "code",
   "execution_count": 14,
   "metadata": {},
   "outputs": [],
   "source": [
    "# definimos una funcion que calcula la solucion sobreamortiguada\n",
    "# la funcion toma como input el tiempo, omega_0, Gamma\n",
    "# y las condiciones iniciales en posicion (psi0) y velocidad (vel0)\n",
    "def psi_sobreamort(t, omega0, Gamma, psi0, vel0):\n",
    "    # por simplicadad definimos Gamma/2 como una propria variable\n",
    "    Gamma2 = Gamma/2\n",
    "    # definimos el omega2 dado \n",
    "    omega2 = np.sqrt(Gamma2**2 - omega0**2)\n",
    "    psi = np.exp(-(Gamma2)*t)*(psi0*np.cosh(omega2*t) + (vel0 + Gamma2*psi0)*np.sinh(omega2*t)/omega2)\n",
    "    return psi"
   ]
  },
  {
   "cell_type": "code",
   "execution_count": 23,
   "metadata": {},
   "outputs": [],
   "source": [
    "# definimos una funcion auxiliar para graficar\n",
    "# esto nos sirve para despues poder usar la\n",
    "# interfaz interactiva\n",
    "def plot_psi_sobreamort(omega0, Gamma, psi0, vel0):\n",
    "    # vamos a graficar hasta t_max (50 veces tiempo 2/Gamma)\n",
    "    t_max = 100 / Gamma\n",
    "    # definimos vector con tiempos discretizado en 2000 puntos\n",
    "    t = np.linspace(0, t_max, 2000)\n",
    "    # calculamos solucion\n",
    "    psi = psi_sobreamort(t, omega0, Gamma, psi0, vel0)\n",
    "    \n",
    "    # graficamos usando matplotlib\n",
    "    plt.figure()\n",
    "    plt.plot(t, psi)\n",
    "    plt.xlabel('$t$')\n",
    "    plt.ylabel('$\\psi$')\n",
    "    plt.grid()\n",
    "    plt.show()"
   ]
  },
  {
   "cell_type": "code",
   "execution_count": 24,
   "metadata": {},
   "outputs": [
    {
     "data": {
      "application/vnd.jupyter.widget-view+json": {
       "model_id": "0dfd810e0d7749b4b97c9563598bdb41",
       "version_major": 2,
       "version_minor": 0
      },
      "text/plain": [
       "interactive(children=(FloatSlider(value=0.5, description='omega0', max=10.0, step=1.0), FloatSlider(value=2.0,…"
      ]
     },
     "metadata": {},
     "output_type": "display_data"
    },
    {
     "data": {
      "text/plain": [
       "<function __main__.plot_psi_sobreamort(omega0, Gamma, psi0, vel0)>"
      ]
     },
     "execution_count": 24,
     "metadata": {},
     "output_type": "execute_result"
    }
   ],
   "source": [
    "# creamos widget iteractivo\n",
    "widgets.interact(plot_psi_sobreamort,\n",
    "                omega0=widgets.FloatSlider(min=0, max=10, step=1, value=0.5),\n",
    "                Gamma=widgets.FloatSlider(min=0, max=10, step=1, value=2),\n",
    "                psi0=widgets.FloatSlider(min=-1, max=1, step=0.1, value=0.5),\n",
    "                vel0=widgets.FloatSlider(min=-1, max=1, step=0.1, value=0.1))"
   ]
  },
  {
   "cell_type": "markdown",
   "metadata": {},
   "source": [
    "### Amortiguamiento crítico: $\\omega_0 = \\frac{\\Gamma}{2}$\n",
    "\n",
    "En este caso, vimos que la solución más general, con las condiciones iniciales ya impuestas, es de la forma\n",
    "\n",
    "$$\n",
    "\\psi(t) = e^{-\\frac{\\Gamma}{2}}\\left[\\psi(0) + \\left(\\dot{\\psi}(0) + \\frac{\\Gamma}{2}\\psi(0)\\right)t\\right]\n",
    "$$\n",
    "\n",
    "\n",
    "A continuación se muestra código para graficar las soluciones para disintas condiciones iniciales."
   ]
  },
  {
   "cell_type": "code",
   "execution_count": 25,
   "metadata": {},
   "outputs": [],
   "source": [
    "# definimos una funcion que calcula la solucion de amoritguamiento critico\n",
    "# la funcion toma como input el tiempo, Gamma\n",
    "# y las condiciones iniciales en posicion (psi0) y velocidad (vel0)\n",
    "def psi_amortcrit(t, Gamma, psi0, vel0):\n",
    "    # por simplicadad definimos Gamma/2 como una propria variable\n",
    "    Gamma2 = Gamma/2\n",
    "    psi = np.exp(-(Gamma2)*t)*(psi0 + (vel0 + Gamma2*psi0)*t)\n",
    "    return psi"
   ]
  },
  {
   "cell_type": "code",
   "execution_count": 26,
   "metadata": {},
   "outputs": [],
   "source": [
    "# definimos una funcion auxiliar para graficar\n",
    "# esto nos sirve para despues poder usar la\n",
    "# interfaz interactiva\n",
    "def plot_psi_amortcrit(Gamma, psi0, vel0):\n",
    "    # vamos a graficar hasta t_max (50 veces tiempo 2/Gamma)\n",
    "    t_max = 100 / Gamma\n",
    "    # definimos vector con tiempos discretizado en 2000 puntos\n",
    "    t = np.linspace(0, t_max, 2000)\n",
    "    # calculamos solucion\n",
    "    psi = psi_amortcrit(t, Gamma, psi0, vel0)\n",
    "    \n",
    "    # graficamos usando matplotlib\n",
    "    plt.figure()\n",
    "    plt.plot(t, psi)\n",
    "    plt.xlabel('$t$')\n",
    "    plt.ylabel('$\\psi$')\n",
    "    plt.grid()\n",
    "    plt.show()"
   ]
  },
  {
   "cell_type": "code",
   "execution_count": 28,
   "metadata": {},
   "outputs": [
    {
     "data": {
      "application/vnd.jupyter.widget-view+json": {
       "model_id": "a6d07b5902e049fda9ba816dfaf42bfe",
       "version_major": 2,
       "version_minor": 0
      },
      "text/plain": [
       "interactive(children=(FloatSlider(value=2.0, description='Gamma', max=10.0, step=1.0), FloatSlider(value=0.5, …"
      ]
     },
     "metadata": {},
     "output_type": "display_data"
    },
    {
     "data": {
      "text/plain": [
       "<function __main__.plot_psi_amortcrit(Gamma, psi0, vel0)>"
      ]
     },
     "execution_count": 28,
     "metadata": {},
     "output_type": "execute_result"
    }
   ],
   "source": [
    "# creamos widget iteractivo\n",
    "widgets.interact(plot_psi_amortcrit,\n",
    "                Gamma=widgets.FloatSlider(min=0, max=10, step=1, value=2),\n",
    "                psi0=widgets.FloatSlider(min=-1, max=1, step=0.1, value=0.5),\n",
    "                vel0=widgets.FloatSlider(min=-1, max=1, step=0.1, value=0.1))"
   ]
  },
  {
   "cell_type": "markdown",
   "metadata": {},
   "source": [
    "## Oscilador Forzado\n",
    "\n",
    "Si ahora consideramos además un forazado externo $F(t)$ tenemos la ecuación de movimiento\n",
    "\n",
    "$$\n",
    " \\ddot{\\psi} = -\\omega_0^2\\psi -\\Gamma\\dot{\\psi} + \\frac{F(t)}{m}\n",
    "$$\n",
    "\n",
    "Como en la clase, nos vamos a concentrar en el caso de un forzado armónico $F(t) = F_0\\cos(\\Omega t)$. Por lo tanto tenemos\n",
    "\n",
    "$$\n",
    " \\ddot{\\psi} = -\\omega_0^2\\psi -\\Gamma\\dot{\\psi} + \\frac{F_0}{m}\\cos(\\Omega t)\n",
    "$$\n",
    "\n",
    "La solución homogénea es alguna de las soluciones de la sección amortiguada anterior, que cumplen todas que $\\psi_{hom}(t) \\rightarrow 0$, cuando $t \\rightarrow \\infty$. Por lo tanto para tiempos largos tenemos que la solucón se parece siempre a la solución particular (régimen estacionario), $\\psi(t) \\approx \\psi_p(t)$.\n",
    "\n",
    "Para la solución particular mostramos que se puede escribir de la forma\n",
    "\n",
    "$$\n",
    "\\psi_p(t) = A_{el}\\cos(\\Omega t) + A_{abs}\\sin(\\Omega t)\n",
    "$$"
   ]
  },
  {
   "cell_type": "markdown",
   "metadata": {},
   "source": [
    "A continuación se muestra código para graficar la solución particular en función del tiempo."
   ]
  },
  {
   "cell_type": "code",
   "execution_count": 32,
   "metadata": {},
   "outputs": [],
   "source": [
    "# función para clacular la amplitud elastica del oscilador forazado\n",
    "def Ael(m, omega0, Gamma, F0, Omega):\n",
    "    # definimos variables axuiliares\n",
    "    dw = omega0**2 - Omega**2\n",
    "    og = Omega * Gamma\n",
    "    # numerador\n",
    "    num = F0 * dw\n",
    "    # denominador\n",
    "    den = m * (dw**2 + og**2)\n",
    "    return num / den\n",
    "\n",
    "\n",
    "# función para clacular la amplitud abosrbente del oscilador forazado\n",
    "def Aabs(m, omega0, Gamma, F0, Omega):\n",
    "    # definimos variables axuiliares\n",
    "    dw = omega0**2 - Omega**2\n",
    "    og = Omega * Gamma\n",
    "    # numerador\n",
    "    num = F0 * og\n",
    "    # denominador\n",
    "    den = m * (dw**2 + og**2)\n",
    "    return num / den"
   ]
  },
  {
   "cell_type": "code",
   "execution_count": 33,
   "metadata": {},
   "outputs": [],
   "source": [
    "# definimos una funcion auxiliar para graficar\n",
    "# esto nos sirve para despues poder usar la\n",
    "# interfaz interactiva\n",
    "def plot_psi_particular(m, omega0, Gamma, F0, Omega):\n",
    "    # vamos a graficar hasta t_max (5 ciclos de Omega)\n",
    "    t_max = 5 * 2*np.pi/Omega\n",
    "    # definimos vector con tiempos discretizado en 2000 puntos\n",
    "    t = np.linspace(0, t_max, 2000)\n",
    "    # calculamos solucion\n",
    "    psi = Ael(m, omega0, Gamma, F0, Omega)*np.cos(Omega*t) + Aabs(m, omega0, Gamma, F0, Omega)*np.sin(Omega*t)\n",
    "    \n",
    "    # graficamos usando matplotlib\n",
    "    plt.figure()\n",
    "    plt.plot(t, psi)\n",
    "    plt.xlabel('$t$')\n",
    "    plt.ylabel('$\\psi$')\n",
    "    plt.grid()\n",
    "    plt.show()"
   ]
  },
  {
   "cell_type": "code",
   "execution_count": 35,
   "metadata": {},
   "outputs": [
    {
     "data": {
      "application/vnd.jupyter.widget-view+json": {
       "model_id": "ee980a19ae2b4ea6820d8494c58b12b1",
       "version_major": 2,
       "version_minor": 0
      },
      "text/plain": [
       "interactive(children=(FloatSlider(value=1.0, description='m', max=10.0, min=0.1), FloatSlider(value=1.0, descr…"
      ]
     },
     "metadata": {},
     "output_type": "display_data"
    },
    {
     "data": {
      "text/plain": [
       "<function __main__.plot_psi_particular(m, omega0, Gamma, F0, Omega)>"
      ]
     },
     "execution_count": 35,
     "metadata": {},
     "output_type": "execute_result"
    }
   ],
   "source": [
    "# creamos widget iteractivo\n",
    "widgets.interact(plot_psi_particular,\n",
    "                m=widgets.FloatSlider(min=0.1, max=10, step=0.1, value=1),\n",
    "                omega0=widgets.FloatSlider(min=0, max=10, step=1, value=1),\n",
    "                Gamma=widgets.FloatSlider(min=0, max=10, step=1, value=0.5),\n",
    "                F0=widgets.FloatSlider(min=-1, max=1, step=0.1, value=0.5),\n",
    "                Omega=widgets.FloatSlider(min=0, max=100, step=0.5, value=0.5))"
   ]
  },
  {
   "cell_type": "markdown",
   "metadata": {},
   "source": [
    "A continuación se muestra código para graficar los $A_{el}$, $A_{abs}$ y la potencia absorbida en función de $\\Omega$."
   ]
  },
  {
   "cell_type": "code",
   "execution_count": 44,
   "metadata": {},
   "outputs": [],
   "source": [
    "# función para clacular la amplitud potencia absorbida del oscilador forazado\n",
    "def Pabs(m, omega0, Gamma, F0, Omega):\n",
    "    Abs = Aabs(m, omega0, Gamma, F0, Omega)\n",
    "    P = F0 * Omega * Abs / 2\n",
    "    return P"
   ]
  },
  {
   "cell_type": "code",
   "execution_count": 45,
   "metadata": {},
   "outputs": [],
   "source": [
    "# definimos una funcion auxiliar para graficar\n",
    "# esto nos sirve para despues poder usar la\n",
    "# interfaz interactiva\n",
    "def plot_psi_resonancia(m, omega0, Gamma, F0, OmegaMin, OmegaMax):\n",
    "    # definimos vector con Omega discretizado en 2000 puntos\n",
    "    Omega = np.linspace(OmegaMin, OmegaMax, 2000)\n",
    "    # calculamos solucion\n",
    "    El = Ael(m, omega0, Gamma, F0, Omega)\n",
    "    Abs = Aabs(m, omega0, Gamma, F0, Omega)\n",
    "    P = Pabs(m, omega0, Gamma, F0, Omega)\n",
    "    \n",
    "    # graficamos usando matplotlib\n",
    "    plt.figure()\n",
    "    plt.plot(Omega, El)\n",
    "    plt.xlabel('$\\Omega$')\n",
    "    plt.ylabel('$A_{el}$')\n",
    "    plt.grid()\n",
    "    plt.show()\n",
    "    \n",
    "    plt.figure()\n",
    "    plt.plot(Omega, Abs)\n",
    "    plt.xlabel('$\\Omega$')\n",
    "    plt.ylabel('$A_{abs}$')\n",
    "    plt.grid()\n",
    "    plt.show()\n",
    "    \n",
    "    plt.figure()\n",
    "    plt.plot(Omega, P)\n",
    "    plt.xlabel('$\\Omega$')\n",
    "    plt.ylabel('$P_{abs}$')\n",
    "    plt.grid()\n",
    "    plt.show()"
   ]
  },
  {
   "cell_type": "code",
   "execution_count": 50,
   "metadata": {},
   "outputs": [
    {
     "data": {
      "application/vnd.jupyter.widget-view+json": {
       "model_id": "f38bbae511574b6793601f1b94e82a03",
       "version_major": 2,
       "version_minor": 0
      },
      "text/plain": [
       "interactive(children=(FloatSlider(value=1.0, description='m', max=10.0, min=0.1), FloatSlider(value=10.0, desc…"
      ]
     },
     "metadata": {},
     "output_type": "display_data"
    },
    {
     "data": {
      "text/plain": [
       "<function __main__.plot_psi_resonancia(m, omega0, Gamma, F0, OmegaMin, OmegaMax)>"
      ]
     },
     "execution_count": 50,
     "metadata": {},
     "output_type": "execute_result"
    }
   ],
   "source": [
    "# creamos widget iteractivo\n",
    "widgets.interact(plot_psi_resonancia,\n",
    "                m=widgets.FloatSlider(min=0.1, max=10, step=0.1, value=1),\n",
    "                omega0=widgets.FloatSlider(min=0, max=100, step=1, value=10),\n",
    "                Gamma=widgets.FloatSlider(min=0, max=10, step=0.1, value=0.5),\n",
    "                F0=widgets.FloatSlider(min=-1, max=1, step=0.1, value=0.5),\n",
    "                OmegaMin=widgets.FloatSlider(min=0, max=100, step=0.01, value=0.01),\n",
    "                OmegaMax=widgets.FloatSlider(min=0, max=100, step=0.01, value=20))"
   ]
  },
  {
   "cell_type": "code",
   "execution_count": null,
   "metadata": {},
   "outputs": [],
   "source": []
  }
 ],
 "metadata": {
  "kernelspec": {
   "display_name": "Python 3",
   "language": "python",
   "name": "python3"
  },
  "language_info": {
   "codemirror_mode": {
    "name": "ipython",
    "version": 3
   },
   "file_extension": ".py",
   "mimetype": "text/x-python",
   "name": "python",
   "nbconvert_exporter": "python",
   "pygments_lexer": "ipython3",
   "version": "3.6.5"
  }
 },
 "nbformat": 4,
 "nbformat_minor": 2
}
