{
 "cells": [
  {
   "cell_type": "markdown",
   "metadata": {},
   "source": [
    "# Cálculo numérico de la serie de Fourier\n",
    "\n",
    "Federico Cerisola (cerisola@df.uba.ar)\n",
    "\n",
    "Departamento de Física, Facultad de Ciencias Exactas y Naturales, Universidad de Buenos Aires"
   ]
  },
  {
   "cell_type": "code",
   "execution_count": 9,
   "metadata": {
    "init_cell": true
   },
   "outputs": [],
   "source": [
    "import numpy as np\n",
    "import scipy as sp\n",
    "import scipy.integrate as integrate\n",
    "\n",
    "from numpy import sin, cos, tan, exp, log, cosh, sinh, sqrt, pi, piecewise\n",
    "\n",
    "import matplotlib.pyplot as plt\n",
    "plt.rcParams.update({'font.size': 12})\n",
    "\n",
    "import ipywidgets as widgets\n",
    "import parser"
   ]
  },
  {
   "cell_type": "markdown",
   "metadata": {},
   "source": [
    "En este notebook se muestra como calcular numéricamente los términos de la serie de Fourier de una función cualquiera.\n",
    "\n",
    "En la notación del código, expresamos el desarrollo fourier de una función $f$ periódica con período $T$ como\n",
    "\n",
    "$$\n",
    "f(t) = \\frac{B_0}{2} + \\sum_{n=1}^{\\infty} A_n\\sin\\left(\\frac{2\\pi n t}{T}\\right) + B_n\\cos\\left(\\frac{2\\pi n t}{T}\\right)\n",
    "$$"
   ]
  },
  {
   "cell_type": "code",
   "execution_count": 10,
   "metadata": {
    "init_cell": true
   },
   "outputs": [],
   "source": [
    "# Esta función toma como input:\n",
    "# . la función a desarrollar:'f'\n",
    "# . el período de la función: 'T'\n",
    "# . el número de coeficiente que acompaña a los senos: n\n",
    "# y devuelve el coeficiente An\n",
    "def coef_fourier_sin(f, n, T=1):\n",
    "    integrando = lambda t: f(t)*np.sin(2*np.pi*n*t/T)\n",
    "    An = (2 / T) * integrate.quad(integrando, 0, T)[0]\n",
    "    return An\n",
    "\n",
    "\n",
    "# Esta función toma como input:\n",
    "# . la función a desarrollar:'f'\n",
    "# . el período de la función: 'T'\n",
    "# . el número de coeficiente que acompaña a los cosenos: n\n",
    "# y devuelve el coeficiente Bn\n",
    "def coef_fourier_cos(f, n, T=1):\n",
    "    integrando = lambda t: f(t)*np.cos(2*np.pi*n*t/T)\n",
    "    Bn = (2 / T) * integrate.quad(integrando, 0, T)[0]\n",
    "    return Bn\n",
    "\n",
    "# Esta función toma como input:\n",
    "# . la función a desarrollar:'f'\n",
    "# . el período de la función: 'T'\n",
    "# . el número maximo hasta el cual calcular los coeficientes del desarrollo: 'nmax'\n",
    "# y devuelve dos vectores con los coeficientes: An, Bn (que corresponden a los senos y cosenos respectivamente)\n",
    "def calcular_coefs_fourier(f, nmax, T=1):\n",
    "    A = np.zeros(nmax+1)\n",
    "    B = np.zeros(nmax+1)\n",
    "    for n in range(nmax+1):\n",
    "        A[n] = coef_fourier_sin(f, n, T)\n",
    "        B[n] = coef_fourier_cos(f, n, T)\n",
    "    A[0] = 0\n",
    "    B[0] = B[0] / 2\n",
    "    return A, B\n",
    "\n",
    "\n",
    "# Esta función toma como input:\n",
    "# . la función a desarrollar:'f'\n",
    "# . el período de la función: 'T'\n",
    "# . el número maximo hasta el cual calcular los coeficientes del desarrollo: 'nmax'\n",
    "# y devuelve una función 'fapprox' que es la aproximación a 'f'\n",
    "# a la función 'fapprox' se la puede usar como a cualquier función, simplemente evaluando 'f(t)'\n",
    "def calcular_approx_fourier(f, nmax, T=1, return_coefs=False):\n",
    "    A, B = calcular_coefs_fourier(f, nmax, T)\n",
    "    def fapprox(t):\n",
    "        r = 0\n",
    "        for n, (An, Bn) in enumerate(zip(A, B)):\n",
    "            r += An*sin(2*np.pi*n*t/T) + Bn*cos(2*np.pi*n*t/T)\n",
    "        return r\n",
    "    \n",
    "    if return_coefs:\n",
    "        return fapprox, A, B\n",
    "    else:\n",
    "        return fapprox"
   ]
  },
  {
   "cell_type": "code",
   "execution_count": 11,
   "metadata": {
    "init_cell": true
   },
   "outputs": [],
   "source": [
    "# Esta función toma como input:\n",
    "# . la función a desarrollar:'f'\n",
    "# . el período de la función: 'T'\n",
    "# . el número maximo hasta el cual calcular los coeficientes del desarrollo: 'nmax'\n",
    "# y utilizando las funciones anteriores grafica la función exacta y la aproximación de Fourier calculada\n",
    "def graficar_approx_fourier(f, nmax, T=1, nperiodos=1):\n",
    "    ffourier, A, B = calcular_approx_fourier(f, nmax, T, return_coefs=True)\n",
    "\n",
    "    t = np.linspace(0, T, 400)\n",
    "    fexacta = f(t)\n",
    "    text = np.linspace(0, nperiodos*T, nperiodos*t.size)\n",
    "    fexactaext = np.concatenate([fexacta]*nperiodos)\n",
    "    fapprox = ffourier(text)\n",
    "\n",
    "    fig, ax = plt.subplots(nrows=3, ncols=1, figsize=(15,10))\n",
    "\n",
    "    ax[0].plot(text, fexactaext, '-', color='C0', linewidth=3.0, label='exacta')\n",
    "    ax[0].plot(text, fapprox, '-', color='C1', linewidth=3.0,\n",
    "               label='approx. Fourier ($n_{{max}}$ = {})'.format(nmax))\n",
    "    ax[0].grid()\n",
    "    ax[0].set_xlabel('$t$')\n",
    "    ax[0].legend()\n",
    "\n",
    "    for n in range(A.size):\n",
    "        if n == 0: continue\n",
    "        ax[1].plot(text, A[n]*sin(2*np.pi*n*text/T), '-', color='C{}'.format(n-1), linewidth=3.0)\n",
    "        ax[2].plot(text, B[n]*cos(2*np.pi*n*text/T), '-', color='C{}'.format(n-1), linewidth=3.0)\n",
    "\n",
    "    fig.tight_layout()\n",
    "    plt.show()\n",
    "    \n",
    "    print('A = ', A)\n",
    "    print('B = ', B)\n",
    "\n",
    "\n",
    "# Esta función toma como input:\n",
    "# . la función a desarrollar en texto:'ftext'\n",
    "# . el período de la función: 'T'\n",
    "# . el número maximo hasta el cual calcular los coeficientes del desarrollo: 'nmax'\n",
    "# y parsea el texto en una función de python y luego grafica los resultados usando la función anterior\n",
    "def graficar_approx_fourier_customf(ftext, nmax, T=1, nperiodos=1):\n",
    "    fcode = parser.expr(ftext).compile()\n",
    "    f = lambda t: eval(fcode)\n",
    "    graficar_approx_fourier(f, nmax, T, nperiodos)"
   ]
  },
  {
   "cell_type": "code",
   "execution_count": 13,
   "metadata": {
    "init_cell": true
   },
   "outputs": [
    {
     "data": {
      "application/vnd.jupyter.widget-view+json": {
       "model_id": "ed8d028e1d454ebc9007f078cda563c8",
       "version_major": 2,
       "version_minor": 0
      },
      "text/plain": [
       "interactive(children=(Textarea(value='t', description='Función'), IntSlider(value=1, description='n máximo', m…"
      ]
     },
     "metadata": {},
     "output_type": "display_data"
    },
    {
     "data": {
      "text/plain": [
       "<function __main__.graficar_approx_fourier_customf(ftext, nmax, T=1, nperiodos=1)>"
      ]
     },
     "execution_count": 13,
     "metadata": {},
     "output_type": "execute_result"
    }
   ],
   "source": [
    "widgets.interact(graficar_approx_fourier_customf,\n",
    "                 ftext=widgets.Textarea(value='t', description='Función'),\n",
    "                 nmax=widgets.IntSlider(min=1, max=80, step=1, value=1, description='n máximo'),\n",
    "                 T=widgets.fixed(1), nperiodos=widgets.fixed(1))"
   ]
  },
  {
   "cell_type": "markdown",
   "metadata": {},
   "source": [
    "En el widget interactivo anterior pueden elegir hasta qué orden calcular el desarrollo y además pueden escribir la función que quieren para desarrollar.\n",
    "\n",
    "Para escribir funciones, la sintáxis es relativamente sencilla, con '\\*' hacen el producto, con '\\*\\*' la potencia (i.e. 't\\*\\*2' es $t^2$), con '/' la división y reconoce funciones básica tipo: 'sin', 'cos', 'tan', 'exp', 'log', 'cosh', 'sinh', 'sqrt'. Algunos ejemplos que pueden a probar a poner en el cuadro de texto de la función:\n",
    "\n",
    "* t\n",
    "* t\\*\\*2\n",
    "* 0.25-(t-0.5)\\*\\*2\n",
    "* (2\\*t + t\\*\\*2)\\*cos(2\\*pi\\*t)\n",
    "* 2-cosh(t-0.5)\n",
    "\n",
    "etc.\n",
    "\n",
    "Pueden también definir fnciones a trozos, aunque en ese caso la sintáxis es un poco más complicada. Acá algunos ejemplos, pueden probar a jugar modificándolos\n",
    "\n",
    "* piecewise(t, [t < 0.5, t >= 0.5], [0, 1])\n",
    "* piecewise(t, [t < 0.5, t >= 0.5], [0, lambda t: t-0.5])\n",
    "* piecewise(t, [t < 0.5, t >= 0.5], [lambda t: t, lambda t: 1-t])\n",
    "* piecewise(t, [t <= 0.25, (t > 0.25) & (t < 0.5), (t >= 0.5) & (t < 0.75) ,t >= 0.75], [0, lambda t: t - 0.25, lambda t: 0.75-t, 0])\n",
    "\n",
    "Algunos ejemplos de las guías:\n",
    "\n",
    "* piecewise(t, [t < 0.25, t >= 0.75], [0, 0, 1])\n",
    "* piecewise(t, [t < 0.15, t >= 0.35], [0, 0, 1])\n",
    "* piecewise(t, [t <= 0.25, (t > 0.25) & (t < 0.5), (t >= 0.5) & (t < 0.75) ,t >= 0.75], [0, lambda t: t - 0.25, lambda t: 0.75-t, 0])\n",
    "* piecewise(t, [t <= 0.25, (t >= 0.25) & (t <= 0.75), t >= 0.75], [lambda t: -t, lambda t: -0.5 + t, lambda t: -t + 1.0])\n",
    "* piecewise(t, [t <= 0.75], [lambda t: t, lambda t: -(t - 1)*0.75/0.25])"
   ]
  }
 ],
 "metadata": {
  "celltoolbar": "Initialization Cell",
  "kernelspec": {
   "display_name": "Python 3",
   "language": "python",
   "name": "python3"
  },
  "language_info": {
   "codemirror_mode": {
    "name": "ipython",
    "version": 3
   },
   "file_extension": ".py",
   "mimetype": "text/x-python",
   "name": "python",
   "nbconvert_exporter": "python",
   "pygments_lexer": "ipython3",
   "version": "3.7.4"
  }
 },
 "nbformat": 4,
 "nbformat_minor": 2
}
